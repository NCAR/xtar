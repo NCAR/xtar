{
 "cells": [
  {
   "cell_type": "code",
   "execution_count": 1,
   "metadata": {},
   "outputs": [],
   "source": [
    "import xarray as xr\n",
    "from pathlib import Path\n",
    "import glob"
   ]
  },
  {
   "cell_type": "markdown",
   "metadata": {},
   "source": [
    "## Create Synthetic Data from Xarray\n",
    "\n",
    "On datarmor compute node, i can't access internet/(can not access to synthetic data example) thus used real data available on datalake.\n",
    "/home/ref-oc-public/modeles_marc/f1_e4000/best_estimate/2014/MARC_F1-MARS3D-MANGAE4000_2014123120*Z.nc\n",
    "These are hourly netcdf computed output."
   ]
  },
  {
   "cell_type": "markdown",
   "metadata": {},
   "source": [
    "Let's create a tarbar for the created netCDF files"
   ]
  },
  {
   "cell_type": "code",
   "execution_count": 2,
   "metadata": {},
   "outputs": [
    {
     "name": "stdout",
     "output_type": "stream",
     "text": [
      "MARC_F1-MARS3D-MANGAE4000_20141231T2000Z.nc\n",
      "MARC_F1-MARS3D-MANGAE4000_20141231T2100Z.nc\n",
      "MARC_F1-MARS3D-MANGAE4000_20141231T2200Z.nc\n",
      "MARC_F1-MARS3D-MANGAE4000_20141231T2300Z.nc\n"
     ]
    }
   ],
   "source": [
    "!cd /home/ref-oc-public/modeles_marc/f1_e4000/best_estimate/2014 ; tar Pcvf ${HOME}/git/xtar/data/realdata.tar MARC_F1-MARS3D-MANGAE4000_20141231T2*Z.nc"
   ]
  },
  {
   "cell_type": "markdown",
   "metadata": {},
   "source": [
    "## ratarmount\n",
    "\n",
    "We will use [ratarmount](https://github.com/mxmlnkn/ratarmount) to create an index file with file names, ownership, permission flags, and offset information to be stored at the TAR file's location. Once the index is created, ratarmount then offers a FUSE mount integration for easy access to the files.\n",
    "\n",
    "**NOTE:** Since `ratarmount` uses FUSE to mount the TAR file as a \"filesystem in user space\", you will need FUSE installed.  On OSX, you will need to install [osxfuse](https://osxfuse.github.io/) *by hand*.  On Linux, you can install `libfuse` using `conda`, if it is not already installed on your system.\n",
    "\n",
    "**NOTE:** If you have `libfuse` on your system and it is *older* than October 19, 2018 (i.e., < 3.3.0 for `fuse3` or < 2.9.9 for `fuse2`), and you have either Lustre or GPFS filesystems, `ratarmount` will fail with an error saying that your filesystem is unsupported.  The solution is to upgrade to a newer version of `libfuse`.\n",
    "\n",
    "**NOTE:** If you install the `libfuse` Conda-Forge package on a Linux system, then you need to set the `FUSE_LIBRARY_PATH` environment variable to the location of the `libfuse.so` library file (e.g., `export FUSE_LIBRARY_PATH=/path/to/libfuse3.so`).  If you do not do this, then `fusepy` (another dependency of `ratarmount`) will use the system `libfuse.so` file, which might be old.\n",
    "\n",
    "**NOTE:** Currently, the Conda-Forge version of `libfuse` does *not* build the `libfuse` utilities such as `fusermount3`.  However, `fusepy` uses these utility functions under the hood when trying to mount the userspace filesystem.  If you install the most recent version of `libfuse` and properly set the location of `libfuse` so that `fusepy` can find it (i.e., `FUSE_LIBRARY_PATH`), you will get an error the `fusermount3` cannot be found."
   ]
  },
  {
   "cell_type": "code",
   "execution_count": 3,
   "metadata": {},
   "outputs": [
    {
     "name": "stdout",
     "output_type": "stream",
     "text": [
      "/bin/sh: ratarmount: command not found\n",
      "CPU times: user 4 ms, sys: 4 ms, total: 8 ms\n",
      "Wall time: 165 ms\n"
     ]
    }
   ],
   "source": [
    "%%time\n",
    "!ratarmount --recreate-index data/realdata.tar mounted_air_dataset"
   ]
  },
  {
   "cell_type": "markdown",
   "metadata": {},
   "source": [
    "=> I have follwing enviroments in my conda; which I thought the ratarmount should work, but not.\n",
    "probably i'm missunderstanding something..?\n",
    "\n",
    "name: xtar-dev\n",
    "channels:\n",
    "  - defaults\n",
    "  - conda-forge\n",
    "dependencies:\n",
    "  - appnope=0.1.0=py38h32f6830_1001\n",
    "  - asciitree=0.3.3=py_2\n",
    "  - attrs=19.3.0=py_0\n",
    "  - backcall=0.1.0=py_0\n",
    "  - bleach=3.1.5=pyh9f0ad1d_0\n",
    "  - bokeh=2.0.1=py38h32f6830_0\n",
    "  - brotlipy=0.7.0=py38h64e0658_1000\n",
    "  - bzip2=1.0.8=h0b31af3_2\n",
    "  - ca-certificates=2020.1.1=0\n",
    "  - certifi=2020.4.5.1=py38_0\n",
    "  - cffi=1.14.0=py38h356ff06_0\n",
    "  - cftime=1.1.2=py38h65ad66c_0\n",
    "  - chardet=3.0.4=py38h32f6830_1006\n",
    "  - click=7.1.2=pyh9f0ad1d_0\n",
    "  - cloudpickle=1.4.1=py_0\n",
    "  - cryptography=2.9.2=py38hb761dab_0\n",
    "  - curl=7.69.1=h2d98d24_0\n",
    "  - cycler=0.10.0=py_2\n",
    "  - cytoolz=0.10.1=py38h0b31af3_0\n",
    "  - dask=2.15.0=py_0\n",
    "  - dask-core=2.15.0=py_0\n",
    "  - decorator=4.4.2=py_0\n",
    "  - defusedxml=0.6.0=py_0\n",
    "  - distributed=2.15.2=py38h32f6830_0\n",
    "  - entrypoints=0.3=py38h32f6830_1001\n",
    "  - fasteners=0.14.1=py_3\n",
    "  - freetype=2.10.1=h8da9a1a_0\n",
    "  - fsspec=0.7.3=py_0\n",
    "  - graphviz=2.42.3=h98dfb87_0\n",
    "  - hdf4=4.2.13=h84186c3_1003\n",
    "  - hdf5=1.10.6=nompi_h3e39495_100\n",
    "  - heapdict=1.0.1=py_0\n",
    "  - idna=2.9=py_1\n",
    "  - importlib-metadata=1.6.0=py38h32f6830_0\n",
    "  - importlib_metadata=1.6.0=0\n",
    "  - ipykernel=5.1.4=py38h39e3cac_0\n",
    "  - ipython=7.14.0=py38h32f6830_0\n",
    "  - ipython_genutils=0.2.0=py_1\n",
    "  - jedi=0.17.0=py38h32f6830_0\n",
    "  - jinja2=2.11.2=pyh9f0ad1d_0\n",
    "  - jpeg=9c=h1de35cc_1001\n",
    "  - json5=0.9.0=\n",
    "    - jsonschema=3.2.0=py38h32f6830_1\n",
    "  - jupyter_client=6.1.3=py_0\n",
    "  - jupyter_core=4.6.3=py38h32f6830_1\n",
    "  - jupyterlab=2.1.2=py_0\n",
    "  - jupyterlab_server=1.1.1=py_0\n",
    "  - kiwisolver=1.2.0=py38ha0d09dd_0\n",
    "  - krb5=1.17.1=h1752a42_0\n",
    "  - libblas=3.8.0=16_openblas\n",
    "  - libcblas=3.8.0=16_openblas\n",
    "  - libcurl=7.69.1=hc0b9707_0\n",
    "  - libcxx=10.0.0=h1af66ff_2\n",
    "  - libedit=3.1.20170329=hcfe32e1_1001\n",
    "  - libffi=3.2.1=h4a8c4bd_1007\n",
    "  - libgfortran=4.0.0=2\n",
    "  - liblapack=3.8.0=16_openblas\n",
    "  - libnetcdf=4.7.4=nompi_ha11d67f_104\n",
    "  - libopenblas=0.3.9=h3d69b6c_0\n",
    "  - libpng=1.6.37=hbbe82c9_1\n",
    "  - libsodium=1.0.17=h01d97ff_0\n",
    "  - libssh2=1.8.2=hcdc9a53_2\n",
    "  - libtiff=4.1.0=h2ae36a8_6\n",
    "  - libwebp-base=1.1.0=h0b31af3_3\n",
    "  - llvm-openmp=10.0.0=h28b9765_0\n",
    "  - locket=0.2.0=py_2\n",
    "  - lz4-c=1.9.2=h4a8c4bd_1\n",
    "  - markupsafe=1.1.1=py38h64e0658_1\n",
    "  - matplotlib=3.2.1=0\n",
    "  - matplotlib-base=3.2.1=py38h1300a51_0\n",
    "  - mistune=0.8.4=py38h64e0658_1001\n",
    "  - monotonic=1.5=py_0\n",
    "  - msgpack-python=1.0.0=py38ha0d09dd_1\n",
    "  - nbconvert=5.6.1=py38h32f6830_1\n",
    "  - nbformat=5.0.6=py_0\n",
    "  - ncurses=6.1=h0a44026_1002\n",
    "  - netcdf4=1.5.3=nompi_py38h4c5c689_105\n",
    "  - notebook=6.0.3=py38_0\n",
    "  - numcodecs=0.6.4=py38h4a8c4bd_0\n",
    "  - numpy=1.18.4=py38h1f821a2_0\n",
    "  - olefile=0.46=py_0\n",
    "  - openssl=1.1.1g=h1de35cc_0\n",
    "  - packaging=20.1=py_0\n",
    "  - pandas=1.0.3=py38h5fc983b_1\n",
    "  - pandoc=2.9.2.1=0\n",
    "  - pandocfilters=1.4.2=py_1\n",
    "  - parso=0.7.0=pyh9f0ad1d_0\n",
    "  - partd=1.1.0=\n",
    "    - pickleshare=0.7.5=py38h32f6830_1001\n",
    "  - pillow=7.1.2=py38h83dc5e5_0\n",
    "  - pip=20.1=pyh9f0ad1d_0\n",
    "  - prometheus_client=0.7.1=py_0\n",
    "  - prompt-toolkit=3.0.5=py_0\n",
    "  - psutil=5.7.0=py38h64e0658_1\n",
    "  - ptyprocess=0.6.0=py_1001\n",
    "  - pycparser=2.20=py_0\n",
    "  - pygments=2.6.1=py_0\n",
    "  - pyopenssl=19.1.0=py_1\n",
    "  - pyparsing=2.4.7=pyh9f0ad1d_0\n",
    "  - pyrsistent=0.16.0=py38h64e0658_0\n",
    "  - pysocks=1.7.1=py38h32f6830_1\n",
    "  - python=3.8.2=hd5f0129_7_cpython\n",
    "  - python-dateutil=2.8.1=py_0\n",
    "  - python-graphviz=0.14=pyh9f0ad1d_0\n",
    "  - python_abi=3.8=1_cp38\n",
    "  - pytz=2020.1=pyh9f0ad1d_0\n",
    "  - pyyaml=5.3.1=py38h64e0658_0\n",
    "  - pyzmq=19.0.1=py38h1fcdcd6_0\n",
    "  - readline=8.0=hcfe32e1_0\n",
    "  - requests=2.23.0=pyh8c360ce_2\n",
    "  - send2trash=1.5.0=py_0\n",
    "  - setuptools=46.1.3=py38h32f6830_0\n",
    "  - six=1.14.0=py_1\n",
    "  - sortedcontainers=2.1.0=py_0\n",
    "  - sqlite=3.30.1=h93121df_0\n",
    "  - tblib=1.6.0=py_0\n",
    "  - terminado=0.8.3=py38h32f6830_1\n",
    "  - testpath=0.4.4=py_0\n",
    "  - tk=8.6.10=hbbe82c9_0\n",
    "  - toolz=0.10.0=py_0\n",
    "  - tornado=6.0.4=py38h64e0658_1\n",
    "  - traitlets=4.3.3=py38h32f6830_1\n",
    "  - typing_extensions=3.7.4.2=py_0\n",
    "  - urllib3=1.25.9=py_0\n",
    "  - wcwidth=0.1.9=pyh9f0ad1d_0\n",
    "  - webencodings=0.5.1=py_1\n",
    "  - wheel=0.34.2=py_1\n",
    "  - xarray=0.15.1=py_0\n",
    "  - xz=5.2.5=h0b31af3_0\n",
    "  - yaml=0.2.4=h0b31af3_0\n",
    "  - zarr=2.4.0=py_0\n",
    "  - zeromq=4.3.2=h6de7cb9_2\n",
    "  - zict=2.0.0=py_0\n",
    "  - zipp=3.1.0=py_0\n",
    "  - zlib=1.2.11=h0b31af3_1006\n",
    "  - pexpect=4.8.0=py38h32f6830_1\n",
    "    - zstd=1.4.4=h4b3e974_3\n",
    "  - pip:\n",
    "    - fusepy==3.0.1\n",
    "    - indexed-bzip2==1.1.1\n",
    "    - indexed-gzip==1.1.0\n",
    "    - ratarmount==0.4.1\n",
    "prefix: /Users/todaka/miniconda3/envs/xtar-dev\n"
   ]
  },
  {
   "cell_type": "code",
   "execution_count": null,
   "metadata": {},
   "outputs": [],
   "source": [
    "%%time\n",
    "mounted_dir = Path(\"mounted_air_dataset/data/air/\")\n",
    "list(mounted_dir.iterdir())"
   ]
  },
  {
   "cell_type": "markdown",
   "metadata": {},
   "source": [
    "For comparison, this is how long it takes to `list` the original data directory."
   ]
  },
  {
   "cell_type": "code",
   "execution_count": null,
   "metadata": {},
   "outputs": [],
   "source": [
    "%%time\n",
    "mounted_dir = Path(\"data/air/\")\n",
    "list(mounted_dir.iterdir())"
   ]
  },
  {
   "cell_type": "markdown",
   "metadata": {},
   "source": [
    "**Substantially slower to list the directory contents (~2x slower)!!!**"
   ]
  },
  {
   "cell_type": "markdown",
   "metadata": {},
   "source": [
    "## Benchmarks"
   ]
  },
  {
   "cell_type": "code",
   "execution_count": null,
   "metadata": {},
   "outputs": [],
   "source": [
    "from dask.distributed import performance_report, Client"
   ]
  },
  {
   "cell_type": "code",
   "execution_count": null,
   "metadata": {},
   "outputs": [],
   "source": [
    "client = Client()\n",
    "client"
   ]
  },
  {
   "cell_type": "markdown",
   "metadata": {},
   "source": [
    "### Original netCDF files"
   ]
  },
  {
   "cell_type": "code",
   "execution_count": null,
   "metadata": {},
   "outputs": [],
   "source": [
    "ds_orig = xr.open_mfdataset(\"data/air/*.nc\", combine='nested', concat_dim='member_id')\n",
    "ds_orig"
   ]
  },
  {
   "cell_type": "code",
   "execution_count": null,
   "metadata": {},
   "outputs": [],
   "source": [
    "ds_orig.air.data.visualize()"
   ]
  },
  {
   "cell_type": "markdown",
   "metadata": {},
   "source": [
    "### Mounted netCDF files from the tar archive"
   ]
  },
  {
   "cell_type": "code",
   "execution_count": null,
   "metadata": {},
   "outputs": [],
   "source": [
    "ds_mntd = xr.open_mfdataset(\"mounted_air_dataset/data/air/*.nc\", combine='nested', concat_dim='member_id')\n",
    "ds_mntd"
   ]
  },
  {
   "cell_type": "code",
   "execution_count": null,
   "metadata": {},
   "outputs": [],
   "source": [
    "ds_mntd.air.data.visualize()"
   ]
  },
  {
   "cell_type": "markdown",
   "metadata": {},
   "source": [
    "### Benchmark: Yearly Averages"
   ]
  },
  {
   "cell_type": "code",
   "execution_count": null,
   "metadata": {},
   "outputs": [],
   "source": [
    "%%time\n",
    "ds_orig.groupby('time.year').mean(['time', 'member_id']).compute()"
   ]
  },
  {
   "cell_type": "code",
   "execution_count": null,
   "metadata": {},
   "outputs": [],
   "source": [
    "%%time\n",
    "ds_mntd.groupby('time.year').mean(['time', 'member_id']).compute()"
   ]
  },
  {
   "cell_type": "markdown",
   "metadata": {},
   "source": [
    "### Dask Performance Reports"
   ]
  },
  {
   "cell_type": "code",
   "execution_count": null,
   "metadata": {},
   "outputs": [],
   "source": [
    "with performance_report(filename=\"dask-perf-report-original.html\"):\n",
    "    ds_orig.groupby('time.year').mean(['time', 'member_id']).compute()"
   ]
  },
  {
   "cell_type": "code",
   "execution_count": null,
   "metadata": {},
   "outputs": [],
   "source": [
    "with performance_report(filename=\"dask-perf-report-mounted.html\"):\n",
    "    ds_mntd.groupby('time.year').mean(['time', 'member_id']).compute()"
   ]
  },
  {
   "cell_type": "code",
   "execution_count": null,
   "metadata": {},
   "outputs": [],
   "source": [
    "from IPython.display import HTML"
   ]
  },
  {
   "cell_type": "code",
   "execution_count": null,
   "metadata": {},
   "outputs": [],
   "source": [
    "display(HTML(\"dask-perf-report-original.html\"))"
   ]
  },
  {
   "cell_type": "code",
   "execution_count": null,
   "metadata": {},
   "outputs": [],
   "source": [
    "display(HTML(\"dask-perf-report-mounted.html\"))"
   ]
  },
  {
   "cell_type": "code",
   "execution_count": null,
   "metadata": {},
   "outputs": [],
   "source": []
  },
  {
   "cell_type": "code",
   "execution_count": null,
   "metadata": {},
   "outputs": [],
   "source": []
  },
  {
   "cell_type": "code",
   "execution_count": null,
   "metadata": {},
   "outputs": [],
   "source": []
  }
 ],
 "metadata": {
  "kernelspec": {
   "display_name": "Python [conda env:xtar-dev]",
   "language": "python",
   "name": "conda-env-xtar-dev-py"
  },
  "language_info": {
   "codemirror_mode": {
    "name": "ipython",
    "version": 3
   },
   "file_extension": ".py",
   "mimetype": "text/x-python",
   "name": "python",
   "nbconvert_exporter": "python",
   "pygments_lexer": "ipython3",
   "version": "3.8.2"
  },
  "widgets": {
   "application/vnd.jupyter.widget-state+json": {
    "state": {},
    "version_major": 2,
    "version_minor": 0
   }
  }
 },
 "nbformat": 4,
 "nbformat_minor": 4
}
