{
 "cells": [
  {
   "cell_type": "code",
   "execution_count": 1,
   "metadata": {},
   "outputs": [],
   "source": [
    "import xarray as xr\n",
    "from pathlib import Path\n",
    "import glob"
   ]
  },
  {
   "cell_type": "markdown",
   "metadata": {},
   "source": [
    "## Create Synthetic Data from Xarray\n",
    "\n",
    "On datarmor compute node, i can't access internet/(can not access to synthetic data example) thus used real data available on datalake.\n",
    "/home/ref-oc-public/modeles_marc/f1_e4000/best_estimate/2014/MARC_F1-MARS3D-MANGAE4000_2014123120*Z.nc\n",
    "These are hourly netcdf computed output."
   ]
  },
  {
   "cell_type": "markdown",
   "metadata": {},
   "source": [
    "Let's create a tarbar for the created netCDF files"
   ]
  },
  {
   "cell_type": "code",
   "execution_count": 9,
   "metadata": {},
   "outputs": [],
   "source": [
    "!mkdir -p data/realdata"
   ]
  },
  {
   "cell_type": "code",
   "execution_count": 10,
   "metadata": {},
   "outputs": [],
   "source": [
    "cp  /home/ref-oc-public/modeles_marc/f1_e4000/best_estimate/2014/MARC_F1-MARS3D-MANGAE4000_20141231T2*Z.nc data/realdata/."
   ]
  },
  {
   "cell_type": "code",
   "execution_count": 11,
   "metadata": {},
   "outputs": [
    {
     "name": "stdout",
     "output_type": "stream",
     "text": [
      "data/realdata/MARC_F1-MARS3D-MANGAE4000_20141231T2000Z.nc\n",
      "data/realdata/MARC_F1-MARS3D-MANGAE4000_20141231T2100Z.nc\n",
      "data/realdata/MARC_F1-MARS3D-MANGAE4000_20141231T2200Z.nc\n",
      "data/realdata/MARC_F1-MARS3D-MANGAE4000_20141231T2300Z.nc\n"
     ]
    }
   ],
   "source": [
    "!tar Pcvf data/realdata.tar data/realdata/*"
   ]
  },
  {
   "cell_type": "markdown",
   "metadata": {},
   "source": [
    "## ratarmount\n",
    "\n",
    "We will use [ratarmount](https://github.com/mxmlnkn/ratarmount) to create an index file with file names, ownership, permission flags, and offset information to be stored at the TAR file's location. Once the index is created, ratarmount then offers a FUSE mount integration for easy access to the files.\n",
    "\n",
    "**NOTE:** Since `ratarmount` uses FUSE to mount the TAR file as a \"filesystem in user space\", you will need FUSE installed.  On OSX, you will need to install [osxfuse](https://osxfuse.github.io/) *by hand*.  On Linux, you can install `libfuse` using `conda`, if it is not already installed on your system.\n",
    "\n",
    "**NOTE:** If you have `libfuse` on your system and it is *older* than October 19, 2018 (i.e., < 3.3.0 for `fuse3` or < 2.9.9 for `fuse2`), and you have either Lustre or GPFS filesystems, `ratarmount` will fail with an error saying that your filesystem is unsupported.  The solution is to upgrade to a newer version of `libfuse`.\n",
    "\n",
    "**NOTE:** If you install the `libfuse` Conda-Forge package on a Linux system, then you need to set the `FUSE_LIBRARY_PATH` environment variable to the location of the `libfuse.so` library file (e.g., `export FUSE_LIBRARY_PATH=/path/to/libfuse3.so`).  If you do not do this, then `fusepy` (another dependency of `ratarmount`) will use the system `libfuse.so` file, which might be old.\n",
    "\n",
    "**NOTE:** Currently, the Conda-Forge version of `libfuse` does *not* build the `libfuse` utilities such as `fusermount3`.  However, `fusepy` uses these utility functions under the hood when trying to mount the userspace filesystem.  If you install the most recent version of `libfuse` and properly set the location of `libfuse` so that `fusepy` can find it (i.e., `FUSE_LIBRARY_PATH`), you will get an error the `fusermount3` cannot be found."
   ]
  },
  {
   "cell_type": "code",
   "execution_count": 12,
   "metadata": {
    "scrolled": true
   },
   "outputs": [
    {
     "name": "stdout",
     "output_type": "stream",
     "text": [
      "Creating offset dictionary for /home1/datahome/todaka/git/xtar/notebooks/data/realdata.tar ...\n",
      "Creating new SQLite index database at /home1/datahome/todaka/git/xtar/notebooks/data/realdata.tar.index.sqlite\n",
      "Creating offset dictionary for /home1/datahome/todaka/git/xtar/notebooks/data/realdata.tar took 0.00s\n",
      "Writing out TAR index to /home1/datahome/todaka/git/xtar/notebooks/data/realdata.tar.index.sqlite took 0s and is sized 24576 B\n",
      "CPU times: user 0 ns, sys: 8 ms, total: 8 ms\n",
      "Wall time: 339 ms\n"
     ]
    }
   ],
   "source": [
    "%%time\n",
    "!/home1/datahome/todaka/conda-env/xtar-dev/bin/ratarmount --recreate-index data/realdata.tar mounted_dataset"
   ]
  },
  {
   "cell_type": "code",
   "execution_count": 17,
   "metadata": {},
   "outputs": [],
   "source": [
    "#prepare test GPFS\n",
    "!mkdir -p ${DATAWORK}/xtar\n",
    "!ln -sf ${DATAWORK}/xtar data_gpfs\n",
    "!cp -R data/realdata* data_gpfs/."
   ]
  },
  {
   "cell_type": "code",
   "execution_count": 20,
   "metadata": {},
   "outputs": [],
   "source": [
    "#prepare test Lustre\n",
    "!mkdir -p ${SCRATCH}/xtar\n",
    "!ln -sf ${SCRATCH}/xtar data_lustre\n",
    "!cp -R data/realdata* data_lustre/.\n"
   ]
  },
  {
   "cell_type": "code",
   "execution_count": 21,
   "metadata": {
    "scrolled": true
   },
   "outputs": [
    {
     "name": "stdout",
     "output_type": "stream",
     "text": [
      "Creating offset dictionary for /home1/datahome/todaka/git/xtar/notebooks/data_gpfs/realdata.tar ...\n",
      "Creating new SQLite index database at /home1/datahome/todaka/git/xtar/notebooks/data_gpfs/realdata.tar.index.sqlite\n",
      "Creating offset dictionary for /home1/datahome/todaka/git/xtar/notebooks/data_gpfs/realdata.tar took 0.13s\n",
      "Writing out TAR index to /home1/datahome/todaka/git/xtar/notebooks/data_gpfs/realdata.tar.index.sqlite took 0s and is sized 24576 B\n"
     ]
    }
   ],
   "source": [
    "#test GPFS\n",
    "!/home1/datahome/todaka/conda-env/xtar-dev/bin/ratarmount --recreate-index data_gpfs/realdata.tar data_gpfs/mounted_dataset"
   ]
  },
  {
   "cell_type": "code",
   "execution_count": 23,
   "metadata": {
    "scrolled": true
   },
   "outputs": [
    {
     "name": "stdout",
     "output_type": "stream",
     "text": [
      "Creating offset dictionary for /home1/datahome/todaka/git/xtar/notebooks/data_lustre/realdata.tar ...\r\n",
      "Creating new SQLite index database at /home1/datahome/todaka/git/xtar/notebooks/data_lustre/realdata.tar.index.sqlite\r\n",
      "Creating offset dictionary for /home1/datahome/todaka/git/xtar/notebooks/data_lustre/realdata.tar took 0.01s\r\n",
      "Writing out TAR index to /home1/datahome/todaka/git/xtar/notebooks/data_lustre/realdata.tar.index.sqlite took 0s and is sized 24576 B\r\n"
     ]
    }
   ],
   "source": [
    "#test Lustre\n",
    "#test GPFS\n",
    "!/home1/datahome/todaka/conda-env/xtar-dev/bin/ratarmount --recreate-index data_lustre/realdata.tar data_lustre/mounted_dataset"
   ]
  },
  {
   "cell_type": "markdown",
   "metadata": {},
   "source": [
    "For comparison, this is how long it takes to `list` the original data directory."
   ]
  },
  {
   "cell_type": "code",
   "execution_count": 14,
   "metadata": {
    "scrolled": true
   },
   "outputs": [
    {
     "name": "stdout",
     "output_type": "stream",
     "text": [
      "CPU times: user 0 ns, sys: 0 ns, total: 0 ns\n",
      "Wall time: 1.07 ms\n"
     ]
    },
    {
     "data": {
      "text/plain": [
       "[PosixPath('mounted_dataset/data/realdata/MARC_F1-MARS3D-MANGAE4000_20141231T2000Z.nc'),\n",
       " PosixPath('mounted_dataset/data/realdata/MARC_F1-MARS3D-MANGAE4000_20141231T2100Z.nc'),\n",
       " PosixPath('mounted_dataset/data/realdata/MARC_F1-MARS3D-MANGAE4000_20141231T2200Z.nc'),\n",
       " PosixPath('mounted_dataset/data/realdata/MARC_F1-MARS3D-MANGAE4000_20141231T2300Z.nc')]"
      ]
     },
     "execution_count": 14,
     "metadata": {},
     "output_type": "execute_result"
    }
   ],
   "source": [
    "%%time\n",
    "mounted_dir = Path(\"mounted_dataset/data/realdata/\")\n",
    "list(mounted_dir.iterdir())"
   ]
  },
  {
   "cell_type": "markdown",
   "metadata": {},
   "source": [
    "**NFS=> tar 1.07 ms  real file 1.18ms"
   ]
  },
  {
   "cell_type": "code",
   "execution_count": 24,
   "metadata": {},
   "outputs": [
    {
     "name": "stdout",
     "output_type": "stream",
     "text": [
      "CPU times: user 0 ns, sys: 0 ns, total: 0 ns\n",
      "Wall time: 1.31 ms\n"
     ]
    },
    {
     "data": {
      "text/plain": [
       "[PosixPath('data_gpfs/mounted_dataset/data/realdata/MARC_F1-MARS3D-MANGAE4000_20141231T2000Z.nc'),\n",
       " PosixPath('data_gpfs/mounted_dataset/data/realdata/MARC_F1-MARS3D-MANGAE4000_20141231T2100Z.nc'),\n",
       " PosixPath('data_gpfs/mounted_dataset/data/realdata/MARC_F1-MARS3D-MANGAE4000_20141231T2200Z.nc'),\n",
       " PosixPath('data_gpfs/mounted_dataset/data/realdata/MARC_F1-MARS3D-MANGAE4000_20141231T2300Z.nc')]"
      ]
     },
     "execution_count": 24,
     "metadata": {},
     "output_type": "execute_result"
    }
   ],
   "source": [
    "%%time\n",
    "mounted_dir = Path(\"data_gpfs/mounted_dataset/data/realdata/\")\n",
    "list(mounted_dir.iterdir())"
   ]
  },
  {
   "cell_type": "code",
   "execution_count": 27,
   "metadata": {
    "scrolled": true
   },
   "outputs": [
    {
     "name": "stdout",
     "output_type": "stream",
     "text": [
      "CPU times: user 0 ns, sys: 0 ns, total: 0 ns\n",
      "Wall time: 853 µs\n"
     ]
    },
    {
     "data": {
      "text/plain": [
       "[PosixPath('data_gpfs/realdata/MARC_F1-MARS3D-MANGAE4000_20141231T2000Z.nc'),\n",
       " PosixPath('data_gpfs/realdata/MARC_F1-MARS3D-MANGAE4000_20141231T2100Z.nc'),\n",
       " PosixPath('data_gpfs/realdata/MARC_F1-MARS3D-MANGAE4000_20141231T2300Z.nc'),\n",
       " PosixPath('data_gpfs/realdata/MARC_F1-MARS3D-MANGAE4000_20141231T2200Z.nc')]"
      ]
     },
     "execution_count": 27,
     "metadata": {},
     "output_type": "execute_result"
    }
   ],
   "source": [
    "%%time\n",
    "mounted_dir = Path(\"data_gpfs/realdata/\")\n",
    "list(mounted_dir.iterdir())"
   ]
  },
  {
   "cell_type": "markdown",
   "metadata": {},
   "source": [
    "**GPFS=> tar 1.31 ms  real file 853 µs"
   ]
  },
  {
   "cell_type": "code",
   "execution_count": 25,
   "metadata": {},
   "outputs": [
    {
     "name": "stdout",
     "output_type": "stream",
     "text": [
      "CPU times: user 0 ns, sys: 0 ns, total: 0 ns\n",
      "Wall time: 1.18 ms\n"
     ]
    },
    {
     "data": {
      "text/plain": [
       "[PosixPath('data_lustre/mounted_dataset/data/realdata/MARC_F1-MARS3D-MANGAE4000_20141231T2000Z.nc'),\n",
       " PosixPath('data_lustre/mounted_dataset/data/realdata/MARC_F1-MARS3D-MANGAE4000_20141231T2100Z.nc'),\n",
       " PosixPath('data_lustre/mounted_dataset/data/realdata/MARC_F1-MARS3D-MANGAE4000_20141231T2200Z.nc'),\n",
       " PosixPath('data_lustre/mounted_dataset/data/realdata/MARC_F1-MARS3D-MANGAE4000_20141231T2300Z.nc')]"
      ]
     },
     "execution_count": 25,
     "metadata": {},
     "output_type": "execute_result"
    }
   ],
   "source": [
    "%%time\n",
    "mounted_dir = Path(\"data_lustre/mounted_dataset/data/realdata/\")\n",
    "list(mounted_dir.iterdir())"
   ]
  },
  {
   "cell_type": "code",
   "execution_count": 28,
   "metadata": {},
   "outputs": [
    {
     "name": "stdout",
     "output_type": "stream",
     "text": [
      "CPU times: user 0 ns, sys: 0 ns, total: 0 ns\n",
      "Wall time: 925 µs\n"
     ]
    },
    {
     "data": {
      "text/plain": [
       "[PosixPath('data_lustre/realdata/MARC_F1-MARS3D-MANGAE4000_20141231T2000Z.nc'),\n",
       " PosixPath('data_lustre/realdata/MARC_F1-MARS3D-MANGAE4000_20141231T2200Z.nc'),\n",
       " PosixPath('data_lustre/realdata/MARC_F1-MARS3D-MANGAE4000_20141231T2100Z.nc'),\n",
       " PosixPath('data_lustre/realdata/MARC_F1-MARS3D-MANGAE4000_20141231T2300Z.nc')]"
      ]
     },
     "execution_count": 28,
     "metadata": {},
     "output_type": "execute_result"
    }
   ],
   "source": [
    "%%time\n",
    "mounted_dir = Path(\"data_lustre/realdata/\")\n",
    "list(mounted_dir.iterdir())"
   ]
  },
  {
   "cell_type": "markdown",
   "metadata": {},
   "source": [
    "**GPFS=> tar 1.18 ms  real file 925 µs"
   ]
  },
  {
   "cell_type": "markdown",
   "metadata": {},
   "source": [
    "**slightly  slower to list the directory contents "
   ]
  },
  {
   "cell_type": "markdown",
   "metadata": {},
   "source": [
    "Following test not yet done on datarmor"
   ]
  },
  {
   "cell_type": "markdown",
   "metadata": {},
   "source": [
    "## Benchmarks"
   ]
  },
  {
   "cell_type": "code",
   "execution_count": null,
   "metadata": {},
   "outputs": [],
   "source": [
    "from dask.distributed import performance_report, Client"
   ]
  },
  {
   "cell_type": "code",
   "execution_count": null,
   "metadata": {},
   "outputs": [],
   "source": [
    "client = Client()\n",
    "client"
   ]
  },
  {
   "cell_type": "markdown",
   "metadata": {},
   "source": [
    "### Original netCDF files"
   ]
  },
  {
   "cell_type": "code",
   "execution_count": null,
   "metadata": {},
   "outputs": [],
   "source": [
    "ds_orig = xr.open_mfdataset(\"data/air/*.nc\", combine='nested', concat_dim='member_id')\n",
    "ds_orig"
   ]
  },
  {
   "cell_type": "code",
   "execution_count": null,
   "metadata": {},
   "outputs": [],
   "source": [
    "ds_orig.air.data.visualize()"
   ]
  },
  {
   "cell_type": "markdown",
   "metadata": {},
   "source": [
    "### Mounted netCDF files from the tar archive"
   ]
  },
  {
   "cell_type": "code",
   "execution_count": null,
   "metadata": {},
   "outputs": [],
   "source": [
    "ds_mntd = xr.open_mfdataset(\"mounted_air_dataset/data/air/*.nc\", combine='nested', concat_dim='member_id')\n",
    "ds_mntd"
   ]
  },
  {
   "cell_type": "code",
   "execution_count": null,
   "metadata": {},
   "outputs": [],
   "source": [
    "ds_mntd.air.data.visualize()"
   ]
  },
  {
   "cell_type": "markdown",
   "metadata": {},
   "source": [
    "### Benchmark: Yearly Averages"
   ]
  },
  {
   "cell_type": "code",
   "execution_count": null,
   "metadata": {},
   "outputs": [],
   "source": [
    "%%time\n",
    "ds_orig.groupby('time.year').mean(['time', 'member_id']).compute()"
   ]
  },
  {
   "cell_type": "code",
   "execution_count": null,
   "metadata": {},
   "outputs": [],
   "source": [
    "%%time\n",
    "ds_mntd.groupby('time.year').mean(['time', 'member_id']).compute()"
   ]
  },
  {
   "cell_type": "markdown",
   "metadata": {},
   "source": [
    "### Dask Performance Reports"
   ]
  },
  {
   "cell_type": "code",
   "execution_count": null,
   "metadata": {},
   "outputs": [],
   "source": [
    "with performance_report(filename=\"dask-perf-report-original.html\"):\n",
    "    ds_orig.groupby('time.year').mean(['time', 'member_id']).compute()"
   ]
  },
  {
   "cell_type": "code",
   "execution_count": null,
   "metadata": {},
   "outputs": [],
   "source": [
    "with performance_report(filename=\"dask-perf-report-mounted.html\"):\n",
    "    ds_mntd.groupby('time.year').mean(['time', 'member_id']).compute()"
   ]
  },
  {
   "cell_type": "code",
   "execution_count": null,
   "metadata": {},
   "outputs": [],
   "source": [
    "from IPython.display import HTML"
   ]
  },
  {
   "cell_type": "code",
   "execution_count": null,
   "metadata": {},
   "outputs": [],
   "source": [
    "display(HTML(\"dask-perf-report-original.html\"))"
   ]
  },
  {
   "cell_type": "code",
   "execution_count": null,
   "metadata": {},
   "outputs": [],
   "source": [
    "display(HTML(\"dask-perf-report-mounted.html\"))"
   ]
  },
  {
   "cell_type": "code",
   "execution_count": null,
   "metadata": {},
   "outputs": [],
   "source": []
  },
  {
   "cell_type": "code",
   "execution_count": null,
   "metadata": {},
   "outputs": [],
   "source": []
  },
  {
   "cell_type": "code",
   "execution_count": null,
   "metadata": {},
   "outputs": [],
   "source": []
  }
 ],
 "metadata": {
  "kernelspec": {
   "display_name": "Python [conda env:xtar-dev]",
   "language": "python",
   "name": "conda-env-xtar-dev-py"
  },
  "language_info": {
   "codemirror_mode": {
    "name": "ipython",
    "version": 3
   },
   "file_extension": ".py",
   "mimetype": "text/x-python",
   "name": "python",
   "nbconvert_exporter": "python",
   "pygments_lexer": "ipython3",
   "version": "3.8.2"
  },
  "widgets": {
   "application/vnd.jupyter.widget-state+json": {
    "state": {},
    "version_major": 2,
    "version_minor": 0
   }
  }
 },
 "nbformat": 4,
 "nbformat_minor": 4
}
